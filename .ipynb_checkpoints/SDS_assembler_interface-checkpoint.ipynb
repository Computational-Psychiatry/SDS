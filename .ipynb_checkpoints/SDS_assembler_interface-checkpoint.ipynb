{
 "cells": [
  {
   "cell_type": "code",
   "execution_count": 2,
   "id": "c4e48a23",
   "metadata": {},
   "outputs": [],
   "source": [
    "import os\n",
    "\n",
    "import pandas as pd\n",
    "import argparse\n",
    "\n",
    "from SDS_assembler import compileSource,createRaw"
   ]
  },
  {
   "cell_type": "code",
   "execution_count": null,
   "id": "8cdeee81",
   "metadata": {},
   "outputs": [],
   "source": [
    "\"\"\"\n",
    "\n",
    "provide paths for \n",
    "a) input source folder\n",
    "b) write path to csv folder\n",
    "\n",
    "example: \n",
    "\n",
    "a) path_to_directory = \"C:\\\\Users\\\\pargim\\\\PycharmProjects\\\\SDS_assembler_as_library\\\\SDS_assembler\\\\source\"\n",
    "b) path_to_csv= \"C:\\\\Users\\\\pargim\\\\PycharmProjects\\\\SDS_assembler_as_library\\\\SDS_assembler\\\\testo_new_2.csv\"\n",
    "\n",
    "\n",
    "\"\"\"\n",
    "path_to_directory = \"C:\\\\Users\\\\pargim\\\\PycharmProjects\\\\SDS_assembler_as_library\\\\SDS_assembler\\\\source\"  #change path details here\n",
    "path_to_csv= \"C:\\\\Users\\\\pargim\\\\PycharmProjects\\\\SDS_assembler_as_library\\\\SDS_assembler\\\\testo_new_2.csv\"#change path details here \n",
    "    \n",
    "data = compileSource.compileSource(path_to_directory,path_to_csv)\n"
   ]
  },
  {
   "cell_type": "code",
   "execution_count": 3,
   "id": "49225336",
   "metadata": {},
   "outputs": [
    {
     "name": "stdout",
     "output_type": "stream",
     "text": [
      "Missing Mandatory Files Modality not found in C:\\Users\\pargim\\PycharmProjects\\SDS_assembler_as_library\\SDS_assembler\\source\\20230821\\tests\\gopro_20230821_10452113.json\n",
      "Missing Mandatory Files Task not found in C:\\Users\\pargim\\PycharmProjects\\SDS_assembler_as_library\\SDS_assembler\\source\\20230821\\tests\\gopro_20230821_10452113.json\n",
      "True\n"
     ]
    }
   ],
   "source": [
    "\"\"\"\n",
    "Provide path to:\n",
    "a) complied csv\n",
    "b) path to raw folder\n",
    "\n",
    "\"\"\"\n",
    "path_to_complied_csv = \"C:\\\\Users\\\\pargim\\\\PycharmProjects\\\\SDS_assembler_as_library\\\\SDS_assembler\\\\testo_new_3.csv\"\n",
    "path_to_raw_folder = \"C:\\\\Users\\\\pargim\\\\PycharmProjects\\\\SDS_assembler_as_library\\\\SDS_assembler\\\\raw\"\n",
    "\n",
    "df = pd.read_csv(path_to_complied_csv)\n",
    "status = createRaw.createRaw(df, path_to_raw_folder)\n",
    "#status = createRaw.createRaw(data, path_to_raw_folder)\n",
    "print(status)\n",
    "\n",
    "\n"
   ]
  },
  {
   "cell_type": "code",
   "execution_count": null,
   "id": "9fd25653",
   "metadata": {},
   "outputs": [],
   "source": []
  },
  {
   "cell_type": "code",
   "execution_count": null,
   "id": "6bedda22",
   "metadata": {},
   "outputs": [],
   "source": []
  },
  {
   "cell_type": "code",
   "execution_count": null,
   "id": "12699ec0",
   "metadata": {},
   "outputs": [],
   "source": []
  }
 ],
 "metadata": {
  "kernelspec": {
   "display_name": "Python 3 (ipykernel)",
   "language": "python",
   "name": "python3"
  },
  "language_info": {
   "codemirror_mode": {
    "name": "ipython",
    "version": 3
   },
   "file_extension": ".py",
   "mimetype": "text/x-python",
   "name": "python",
   "nbconvert_exporter": "python",
   "pygments_lexer": "ipython3",
   "version": "3.9.18"
  }
 },
 "nbformat": 4,
 "nbformat_minor": 5
}
